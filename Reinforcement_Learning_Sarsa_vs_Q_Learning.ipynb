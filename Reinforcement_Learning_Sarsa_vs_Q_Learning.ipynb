{
  "cells": [
    {
      "cell_type": "markdown",
      "metadata": {
        "id": "f-zZQ-Gz5LIk"
      },
      "source": [
        "# ASSIGNMENT 3\n",
        "## Sarsa and Q-Learning ALgorithm\n",
        "\n",
        "DSCI 6650-001: Reinforcement Learning\n",
        "\n",
        "Student: Sahil Khan\n",
        "\n",
        "Date: 05-Aug-2025\n",
        "________________________________________________________________________________"
      ]
    },
    {
      "cell_type": "markdown",
      "metadata": {
        "id": "m-k8WcTN57PJ"
      },
      "source": [
        "### Step 0: Imports and Helper Functions"
      ]
    },
    {
      "cell_type": "code",
      "execution_count": 9,
      "metadata": {},
      "outputs": [],
      "source": [
        "import torch\n",
        "import numpy as np\n",
        "import matplotlib.pyplot as plt\n",
        "from matplotlib.colors import ListedColormap\n",
        "import time\n",
        "import random\n",
        "import math\n",
        "from tqdm.notebook import tqdm"
      ]
    },
    {
      "cell_type": "code",
      "execution_count": 15,
      "metadata": {},
      "outputs": [
        {
          "name": "stdout",
          "output_type": "stream",
          "text": [
            "Using GPU: Cuda \n"
          ]
        }
      ],
      "source": [
        "# --- GPU Setup ---\n",
        "# setting the device directly to CUDA.\n",
        "device = torch.device(\"cuda\")\n",
        "print(f\"Using GPU: {'Cuda 'if(device.type == 'cuda') else 'CPU'}\")"
      ]
    },
    {
      "cell_type": "code",
      "execution_count": 16,
      "metadata": {},
      "outputs": [],
      "source": [
        "# --- Seeding for reproducibility ---\n",
        "seed = 42\n",
        "np.random.seed(seed)\n",
        "torch.manual_seed(seed)\n",
        "torch.cuda.manual_seed_all(seed)"
      ]
    },
    {
      "cell_type": "markdown",
      "metadata": {
        "id": "DXTCGpk76MjB"
      },
      "source": [
        "### Grid World Environment\n",
        "This class defines the mechanics of our grid world. It knows where the walls and goals are and what happens when the agent tries to move.\n"
      ]
    },
    {
      "cell_type": "code",
      "execution_count": 17,
      "metadata": {
        "id": "sYvD2Hlf7TcA"
      },
      "outputs": [],
      "source": [
        "# defining the grid world environment\n",
        "class GridWorld:\n",
        "    \"\"\"\n",
        "    Defining the Grid World environment.\n",
        "    This is handling state transitions and rewards.\n",
        "    \"\"\"\n",
        "    def __init__(self):\n",
        "        self.gridHeight = 5\n",
        "        self.gridWidth = 5\n",
        "        \n",
        "        # defining the special states\n",
        "        self.startState = (4, 0)\n",
        "        self.terminalStates = [(0, 0), (0, 4)]\n",
        "        self.redStates = [(2, 0), (2, 1), (2, 3), (2, 4)]\n",
        "        \n",
        "        # 0:Up, 1:Down, 2:Left, 3:Right\n",
        "        self.actions = [(-1, 0), (1, 0), (0, -1), (0, 1)]\n",
        "        self.numActions = len(self.actions)\n",
        "\n",
        "    def getStateInfo(self, state):\n",
        "        # checking the type of a state\n",
        "        if tuple(state) in self.terminalStates:\n",
        "            return \"TERMINAL\"\n",
        "        if tuple(state) in self.redStates:\n",
        "            return \"RED\"\n",
        "        return \"NORMAL\"\n",
        "\n",
        "    def step(self, state, actionIndex):\n",
        "        # taking a step in the environment\n",
        "        if self.getStateInfo(state) == \"TERMINAL\":\n",
        "            return state, 0, True\n",
        "\n",
        "        action = self.actions[actionIndex]\n",
        "        nextState = (state[0] + action[0], state[1] + action[1])\n",
        "        \n",
        "        # checking for out-of-bounds moves\n",
        "        if not (0 <= nextState[0] < self.gridHeight and 0 <= nextState[1] < self.gridWidth):\n",
        "            return state, 1, False\n",
        "            \n",
        "        # checking the next state to figure out reward\n",
        "        nextStateType = self.getStateInfo(nextState)\n",
        "        \n",
        "        if nextStateType == \"RED\":\n",
        "            # hitting a red square sends agent back to start\n",
        "            reward = -20\n",
        "            return self.startState, reward, False\n",
        "        elif nextStateType == \"TERMINAL\":\n",
        "            # providing a large positive reward for reaching the goal.\n",
        "            reward = 50\n",
        "            return nextState, reward, True\n",
        "        else: # NORMAL state\n",
        "            reward = 1\n",
        "            return nextState, reward, False"
      ]
    },
    {
      "cell_type": "code",
      "execution_count": 18,
      "metadata": {
        "id": "hJNZoJM57qMe"
      },
      "outputs": [],
      "source": [
        "# plotting the agent's final path\n",
        "def plotTrajectory(qTable, grid, title):\n",
        "    \"\"\"\n",
        "    Visualizing the grid and plotting the final path.\n",
        "    \"\"\"\n",
        "    # 0:white, 1:blue(start), 2:black(terminal), 3:red\n",
        "    cmap = ListedColormap(['white', 'blue', 'black', 'red'])\n",
        "    gridDisplay = np.zeros((grid.gridHeight, grid.gridWidth))\n",
        "    \n",
        "    # marking the special states\n",
        "    startRow, startCol = grid.startState\n",
        "    gridDisplay[startRow, startCol] = 1\n",
        "    for r, c in grid.terminalStates:\n",
        "        gridDisplay[r, c] = 2\n",
        "    for r, c in grid.redStates:\n",
        "        gridDisplay[r, c] = 3\n",
        "\n",
        "    fig, ax = plt.subplots(figsize=(6, 6))\n",
        "    ax.imshow(gridDisplay, cmap=cmap, interpolation='nearest')\n",
        "\n",
        "    # figuring out the learned policy by always taking the best action\n",
        "    currentState = grid.startState\n",
        "    path = [currentState]\n",
        "    pathLength = 0\n",
        "    \n",
        "    while grid.getStateInfo(currentState) != \"TERMINAL\" and pathLength < 25:\n",
        "        # moving Q-values to CPU for plotting with numpy/matplotlib\n",
        "        qValues = qTable[currentState[0], currentState[1]].cpu()\n",
        "        bestAction = torch.argmax(qValues).item()\n",
        "        \n",
        "        nextState, _, _ = grid.step(currentState, bestAction)\n",
        "        path.append(nextState)\n",
        "        currentState = nextState\n",
        "        pathLength += 1\n",
        "\n",
        "    # drawing the path on the grid\n",
        "    pathRows, pathCols = zip(*path)\n",
        "    ax.plot(np.array(pathCols), np.array(pathRows), 'g-o', linewidth=3, markersize=8, label='Learned Path')\n",
        "\n",
        "    # formatting the plot\n",
        "    ax.set_xticks(np.arange(-.5, grid.gridWidth, 1), minor=True)\n",
        "    ax.set_yticks(np.arange(-.5, grid.gridHeight, 1), minor=True)\n",
        "    ax.grid(which=\"minor\", color=\"black\", linestyle='-', linewidth=1)\n",
        "    ax.tick_params(which=\"minor\", size=0)\n",
        "    ax.tick_params(axis='both', which='major', bottom=False, left=False, labelbottom=False, labelleft=False)\n",
        "    ax.set_title(title, fontsize=16)\n",
        "    ax.legend()\n",
        "    plt.show()"
      ]
    },
    {
      "cell_type": "code",
      "execution_count": 19,
      "metadata": {
        "id": "Dw5W_JHh7tq1"
      },
      "outputs": [],
      "source": [
        "# choosing an action with epsilon-greedy\n",
        "def chooseAction(qTable, state, epsilon, numActions):\n",
        "    if random.uniform(0, 1) < epsilon:\n",
        "        # exploring\n",
        "        return random.randint(0, numActions - 1)\n",
        "    else:\n",
        "        # exploiting\n",
        "        qValues = qTable[state[0], state[1]]\n",
        "        return torch.argmax(qValues).item()"
      ]
    },
    {
      "cell_type": "code",
      "execution_count": 20,
      "metadata": {
        "id": "_ZaW4Hmp5IZW"
      },
      "outputs": [],
      "source": [
        "# main function for running the training process\n",
        "def runExperiment(algorithmName):\n",
        "    # setting hyperparameters\n",
        "    learningRate = 0.1\n",
        "    discountFactor = 0.99\n",
        "    numEpisodes = 5000\n",
        "    maxStepsPerEpisode = 1000  # re-introducing the limit for speed\n",
        "    \n",
        "    epsilon = 1.0\n",
        "    maxEpsilon = 1.0\n",
        "    minEpsilon = 0.01\n",
        "    epsilonDecayRate = 0.001\n",
        "\n",
        "    # setting things up\n",
        "    env = GridWorld()\n",
        "    qTable = torch.zeros((env.gridHeight, env.gridWidth, env.numActions), device=device)\n",
        "    rewardsPerEpisode = []\n",
        "    \n",
        "    print(f\"\\n--- Starting Training for {algorithmName.upper()} ---\")\n",
        "    startTime = time.time()\n",
        "\n",
        "    # running the main training loop with a progress bar\n",
        "    pbar = tqdm(range(numEpisodes), desc=f\"Training {algorithmName.upper()}\", leave=True)\n",
        "    for episode in pbar:\n",
        "        state = env.startState\n",
        "        done = False\n",
        "        totalEpisodeReward = 0\n",
        "        steps = 0\n",
        "        \n",
        "        if algorithmName == 'sarsa':\n",
        "            action = chooseAction(qTable, state, epsilon, env.numActions)\n",
        "\n",
        "        # running each episode with a step limit\n",
        "        while not done and steps < maxStepsPerEpisode:\n",
        "            if algorithmName == 'q_learning':\n",
        "                action = chooseAction(qTable, state, epsilon, env.numActions)\n",
        "\n",
        "            nextState, reward, done = env.step(state, action)\n",
        "            totalEpisodeReward += reward\n",
        "            \n",
        "            oldQValue = qTable[state[0], state[1], action]\n",
        "\n",
        "            # applying the main difference between sarsa and q-learning\n",
        "            if algorithmName == 'sarsa':\n",
        "                nextAction = chooseAction(qTable, nextState, epsilon, env.numActions)\n",
        "                nextQValue = qTable[nextState[0], nextState[1], nextAction]\n",
        "                tdTarget = reward + discountFactor * nextQValue\n",
        "                \n",
        "            elif algorithmName == 'q_learning':\n",
        "                bestNextQValue = torch.max(qTable[nextState[0], nextState[1]])\n",
        "                tdTarget = reward + discountFactor * bestNextQValue\n",
        "\n",
        "            # updating the q-value\n",
        "            newQValue = oldQValue + learningRate * (tdTarget - oldQValue)\n",
        "            qTable[state[0], state[1], action] = newQValue\n",
        "            \n",
        "            state = nextState\n",
        "            \n",
        "            if algorithmName == 'sarsa':\n",
        "                action = nextAction\n",
        "            \n",
        "            steps += 1\n",
        "        \n",
        "        # decaying epsilon over time\n",
        "        epsilon = minEpsilon + (maxEpsilon - minEpsilon) * math.exp(-epsilonDecayRate * episode)\n",
        "        rewardsPerEpisode.append(totalEpisodeReward)\n",
        "        \n",
        "        # updating the progress bar description\n",
        "        if (episode + 1) % 100 == 0:\n",
        "            avgReward = np.mean(rewardsPerEpisode[-100:])\n",
        "            pbar.set_postfix({\"Avg Reward (last 100)\": f\"{avgReward:.2f}\", \"Epsilon\": f\"{epsilon:.3f}\"})\n",
        "            \n",
        "    endTime = time.time()\n",
        "    print(f\"--- Training Finished for {algorithmName.upper()} in {endTime - startTime:.2f} seconds ---\")\n",
        "    \n",
        "    return qTable, rewardsPerEpisode"
      ]
    },
    {
      "cell_type": "markdown",
      "metadata": {
        "id": "51PStTM_7zZ0"
      },
      "source": [
        "### --- Running Experiments and Visualizing Results ---"
      ]
    },
    {
      "cell_type": "code",
      "execution_count": 21,
      "metadata": {
        "colab": {
          "background_save": true,
          "base_uri": "https://localhost:8080/"
        },
        "id": "twC72BwJ7z2m",
        "outputId": "95342be8-2720-417f-abe5-72b1fbc955f6"
      },
      "outputs": [
        {
          "name": "stdout",
          "output_type": "stream",
          "text": [
            "\n",
            "--- Starting Training for SARSA ---\n"
          ]
        },
        {
          "data": {
            "application/vnd.jupyter.widget-view+json": {
              "model_id": "48d63c4eeb9a4c7da0b1355de650a05a",
              "version_major": 2,
              "version_minor": 0
            },
            "text/plain": [
              "Training SARSA:   0%|          | 0/5000 [00:00<?, ?it/s]"
            ]
          },
          "metadata": {},
          "output_type": "display_data"
        },
        {
          "name": "stdout",
          "output_type": "stream",
          "text": [
            "--- Training Finished for SARSA in 1456.37 seconds ---\n"
          ]
        }
      ],
      "source": [
        "# running both sarsa and q-learning\n",
        "qTableSarsa, rewardsSarsa = runExperiment('sarsa')"
      ]
    },
    {
      "cell_type": "code",
      "execution_count": 22,
      "metadata": {},
      "outputs": [
        {
          "name": "stdout",
          "output_type": "stream",
          "text": [
            "\n",
            "--- Starting Training for Q_LEARNING ---\n"
          ]
        },
        {
          "data": {
            "application/vnd.jupyter.widget-view+json": {
              "model_id": "c27420a7f71a48679b859579323636b2",
              "version_major": 2,
              "version_minor": 0
            },
            "text/plain": [
              "Training Q_LEARNING:   0%|          | 0/5000 [00:00<?, ?it/s]"
            ]
          },
          "metadata": {},
          "output_type": "display_data"
        },
        {
          "name": "stdout",
          "output_type": "stream",
          "text": [
            "--- Training Finished for Q_LEARNING in 642.55 seconds ---\n"
          ]
        }
      ],
      "source": [
        "# running q-learning\n",
        "qTableQLearning, rewardsQLearning = runExperiment('q_learning')"
      ]
    },
    {
      "cell_type": "code",
      "execution_count": 23,
      "metadata": {
        "id": "QJ4ed9R07_yi"
      },
      "outputs": [
        {
          "data": {
            "image/png": "[encoded data removed]",
            "text/plain": [
              "<Figure size 864x432 with 1 Axes>"
            ]
          },
          "metadata": {
            "needs_background": "light"
          },
          "output_type": "display_data"
        }
      ],
      "source": [
        "# plotting the rewards to see how they learned\n",
        "plt.figure(figsize=(12, 6))\n",
        "\n",
        "# using a moving average to smooth the curve\n",
        "def movingAverage(data, windowSize):\n",
        "    return np.convolve(data, np.ones(windowSize)/windowSize, mode='valid')\n",
        "\n",
        "window = 100\n",
        "plt.plot(movingAverage(rewardsSarsa, window), label=f'Sarsa (smoothed over {window} episodes)')\n",
        "plt.plot(movingAverage(rewardsQLearning, window), label=f'Q-Learning (smoothed over {window} episodes)')\n",
        "plt.title('Sum of Rewards per Episode', fontsize=16)\n",
        "plt.xlabel('Episode')\n",
        "plt.ylabel('Total Reward')\n",
        "plt.grid(True)\n",
        "plt.legend()\n",
        "plt.show()"
      ]
    },
    {
      "cell_type": "code",
      "execution_count": 24,
      "metadata": {
        "id": "7AtLK3Rf9Atj"
      },
      "outputs": [
        {
          "data": {
            "image/png": "[encoded data removed]",
            "text/plain": [
              "<Figure size 432x432 with 1 Axes>"
            ]
          },
          "metadata": {},
          "output_type": "display_data"
        }
      ],
      "source": [
        "# plotting the final paths they learned\n",
        "grid = GridWorld()\n",
        "plotTrajectory(qTableSarsa, grid, title='Final Trajectory: Sarsa')"
      ]
    },
    {
      "cell_type": "code",
      "execution_count": 25,
      "metadata": {},
      "outputs": [
        {
          "data": {
            "image/png": "[encoded data removed]",
            "text/plain": [
              "<Figure size 432x432 with 1 Axes>"
            ]
          },
          "metadata": {},
          "output_type": "display_data"
        }
      ],
      "source": [
        "plotTrajectory(qTableQLearning, grid, title='Final Trajectory: Q-Learning')"
      ]
    }
  ],
  "metadata": {
    "accelerator": "GPU",
    "colab": {
      "gpuType": "T4",
      "provenance": []
    },
    "kernelspec": {
      "display_name": "Python 3 (ipykernel)",
      "language": "python",
      "name": "python3"
    },
    "language_info": {
      "codemirror_mode": {
        "name": "ipython",
        "version": 3
      },
      "file_extension": ".py",
      "mimetype": "text/x-python",
      "name": "python",
      "nbconvert_exporter": "python",
      "pygments_lexer": "ipython3",
      "version": "3.9.12"
    }
  },
  "nbformat": 4,
  "nbformat_minor": 0
}
